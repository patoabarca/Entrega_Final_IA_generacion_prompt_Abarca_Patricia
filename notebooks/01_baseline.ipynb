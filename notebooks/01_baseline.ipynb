{
 "cells": [
  {
   "cell_type": "markdown",
   "id": "efa465a8",
   "metadata": {},
   "source": [
    "# Baseline – Prompt simple\n",
    "\n",
    "Este notebook muestra una consulta al modelo **sin técnicas de fast prompting**.\n",
    "El objetivo es comparar con la versión mejorada que usa base de conocimiento y reglas."
   ]
  },
  {
   "cell_type": "code",
   "execution_count": 1,
   "id": "06d94a2c",
   "metadata": {},
   "outputs": [
    {
     "name": "stdout",
     "output_type": "stream",
     "text": [
      "--- RESPUESTA BASELINE ---\n",
      "\n",
      "Para afiliar a un conviviente a un sistema de seguridad social o servicios de salud a través de una unión convivencial, generalmente se requiere la siguiente documentación: un certificado de convivencia que acredite la relación, el DNI o identificación oficial de ambos convivientes, y, en algunos casos, comprobantes de residencia que demuestren que viven juntos. También pueden pedir una declaración jurada de la convivencia y documentos que respalden la relación, como cuentas compartidas o contratos. Es recomendable consultar la normativa específica de la entidad con la que se desea afiliar.\n"
     ]
    }
   ],
   "source": [
    "from openai import OpenAI\n",
    "import os\n",
    "from dotenv import load_dotenv\n",
    "\n",
    "# Cargar API Key desde .env\n",
    "load_dotenv()\n",
    "client = OpenAI(api_key=os.getenv(\"OPENAI_API_KEY\"))\n",
    "\n",
    "# Pregunta de ejemplo\n",
    "consulta = \"¿Qué documentación necesito para afiliar a un conviviente con unión convivencial?\"\n",
    "\n",
    "# Prompt simple (sin contexto ni reglas)\n",
    "prompt_baseline = f\"Explicá en un párrafo breve qué documentación se necesita: {consulta}\"\n",
    "\n",
    "respuesta = client.responses.create(\n",
    "    model=\"gpt-4o-mini\",\n",
    "    input=prompt_baseline\n",
    ")\n",
    "\n",
    "print(\"--- RESPUESTA BASELINE ---\\n\")\n",
    "print(respuesta.output_text)\n"
   ]
  },
  {
   "cell_type": "markdown",
   "id": "82556295",
   "metadata": {},
   "source": [
    "\n"
   ]
  }
 ],
 "metadata": {
  "kernelspec": {
   "display_name": "Python 3",
   "language": "python",
   "name": "python3"
  },
  "language_info": {
   "codemirror_mode": {
    "name": "ipython",
    "version": 3
   },
   "file_extension": ".py",
   "mimetype": "text/x-python",
   "name": "python",
   "nbconvert_exporter": "python",
   "pygments_lexer": "ipython3",
   "version": "3.13.6"
  }
 },
 "nbformat": 4,
 "nbformat_minor": 5
}
